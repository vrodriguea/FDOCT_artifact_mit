{
 "cells": [
  {
   "cell_type": "code",
   "execution_count": 3,
   "metadata": {},
   "outputs": [],
   "source": [
    "import cv2\n",
    "import math\n",
    "import numpy as np\n",
    "import skimage.measure as skm"
   ]
  },
  {
   "cell_type": "markdown",
   "metadata": {},
   "source": [
    "# Metricas "
   ]
  },
  {
   "cell_type": "markdown",
   "metadata": {},
   "source": [
    "A tener en cuenta, cual deberia importarme más, establecer un peso a casa una para una metrica combinada genral. "
   ]
  },
  {
   "cell_type": "code",
   "execution_count": 4,
   "metadata": {},
   "outputs": [],
   "source": [
    "def psnr(original, reconstructed):\n",
    "\n",
    "  \"\"\"Calcula la Relación Señal-Ruido de Pico \n",
    "   (PSNR) entre dos imágenes\"\"\"\n",
    "\n",
    "  mse = cv2.meanSquaredError(original, reconstructed)\n",
    "  if mse == 0:\n",
    "    return float('Inf')\n",
    "  return 20 * math.log10(255.0 / math.sqrt(mse))\n"
   ]
  },
  {
   "cell_type": "code",
   "execution_count": 5,
   "metadata": {},
   "outputs": [],
   "source": [
    "\n",
    "def mae(original, reconstructed):\n",
    "  \"\"\"Calcula (MAE) entre dos imágenes\"\"\"\n",
    "  mae_value = np.mean(np.abs(original - reconstructed))\n",
    "  return mae_value"
   ]
  },
  {
   "cell_type": "code",
   "execution_count": 6,
   "metadata": {},
   "outputs": [],
   "source": [
    "def ssim(original, reconstructed):\n",
    "  \"\"\"Calcula Índice de similitud estructural (SSIM) entre dos imágenes\"\"\"\n",
    "  ssim_value, _ = skm.compare_ssim(original, reconstructed, full=True)\n",
    "  return ssim_value"
   ]
  },
  {
   "cell_type": "code",
   "execution_count": 36,
   "metadata": {},
   "outputs": [],
   "source": [
    "img1 = cv2.imread('manzana.JPG',cv2.IMREAD_GRAYSCALE)\n",
    "img2 = cv2.imread('manzana1.JPG',cv2.IMREAD_GRAYSCALE)\n"
   ]
  },
  {
   "cell_type": "code",
   "execution_count": 29,
   "metadata": {},
   "outputs": [],
   "source": [
    "\n",
    "# Convert it to HSV\n",
    "img1_hsv = cv2.cvtColor(img1, cv2.COLOR_BGR2HSV)\n",
    "img2_hsv = cv2.cvtColor(img2, cv2.COLOR_BGR2HSV)"
   ]
  },
  {
   "cell_type": "code",
   "execution_count": 31,
   "metadata": {},
   "outputs": [],
   "source": [
    "\n",
    "# Calculate the histogram and normalize it\n",
    "hist_img1 = cv2.calcHist([img1_hsv], [0,1], None, [180,256], [0,180,0,256])\n",
    "cv2.normalize(hist_img1, hist_img1, alpha=0, beta=1, norm_type=cv2.NORM_MINMAX);\n",
    "\n",
    "\n",
    "hist_img2 = cv2.calcHist([img2_hsv], [0,1], None, [180,256], [0,180,0,256])\n",
    "cv2.normalize(hist_img2, hist_img2, alpha=0, beta=1, norm_type=cv2.NORM_MINMAX);"
   ]
  },
  {
   "cell_type": "markdown",
   "metadata": {},
   "source": [
    " La distancia de Bhattacharyya es una medida de la similitud entre dos distribuciones probabilísticas; en este contexto, se utiliza para comparar las distribuciones de color o intensidad representadas por los histogramas de dos imágenes.\n",
    "\n",
    "Un valor de metric_val cercano a 0 indica una alta similitud entre los histogramas (y, por lo tanto, entre las imágenes), mientras que un valor más alto indica una menor similitud. La distancia de Bhattacharyya es particularmente útil para comparaciones donde las diferencias en iluminación entre las imágenes pueden afectar otras métricas de comparación, ya que es relativamente robusta a tales cambios."
   ]
  },
  {
   "cell_type": "code",
   "execution_count": 32,
   "metadata": {},
   "outputs": [
    {
     "data": {
      "text/plain": [
       "0.4785998281655487"
      ]
     },
     "execution_count": 32,
     "metadata": {},
     "output_type": "execute_result"
    }
   ],
   "source": [
    "\n",
    "# Compare the histograms using Bhattacharyya distance ( similiytud)\n",
    "metric_val = cv2.compareHist(hist_img1, hist_img2, cv2.HISTCMP_BHATTACHARYYA)\n",
    "metric_val"
   ]
  },
  {
   "cell_type": "markdown",
   "metadata": {},
   "source": [
    "mide la correlación entre dos histogramas utilizando el método de comparación de correlación de OpenCV (cv2.HISTCMP_CORREL). Este método calcula la correlación entre los dos histogramas, que es una medida de cuán similares son los patrones de distribución de color/intensidad en las dos imágenes.\n",
    "\n",
    "La correlación varía de -1 a 1, donde:\n",
    "\n",
    "1 indica una correlación perfecta. Los histogramas son idénticos, lo que significa que las distribuciones de color/intensidad en ambas imágenes son exactamente las mismas.\n",
    "0 indica que no hay correlación. Los patrones de distribución en los histogramas no se relacionan entre sí.\n",
    "-1 indica una correlación negativa perfecta. Esto es teóricamente posible en el contexto de procesamiento de señales o estadísticas, pero en la práctica, para comparaciones de histogramas de imágenes, es raro y generalmente se considera que valores cercanos a 0 indican baja similitud."
   ]
  },
  {
   "cell_type": "code",
   "execution_count": 33,
   "metadata": {},
   "outputs": [
    {
     "data": {
      "text/plain": [
       "0.9720546960402671"
      ]
     },
     "execution_count": 33,
     "metadata": {},
     "output_type": "execute_result"
    }
   ],
   "source": [
    "metric_val_correl = cv2.compareHist(hist_img1, hist_img2, cv2.HISTCMP_CORREL)\n",
    "#cv2.HISTCMP_CHISQR\n",
    "metric_val_correl"
   ]
  },
  {
   "cell_type": "markdown",
   "metadata": {},
   "source": [
    "La distancia Chi-Cuadrado es una medida de la diferencia entre los histogramas. Un valor bajo indica una alta similitud entre los histogramas, mientras que un valor alto indica una baja similitud. En otras palabras, cuanto más cercano a 0 sea el resultado, más similares son los histogramas (y por lo tanto, potencialmente, las imágenes).\n",
    "\n",
    "Esta métrica es útil para comparar imágenes en términos de sus distribuciones de color o intensidad, siendo especialmente sensible a las diferencias en las mismas."
   ]
  },
  {
   "cell_type": "code",
   "execution_count": 34,
   "metadata": {},
   "outputs": [
    {
     "data": {
      "text/plain": [
       "55.53285527189904"
      ]
     },
     "execution_count": 34,
     "metadata": {},
     "output_type": "execute_result"
    }
   ],
   "source": [
    "metric_val_correl = cv2.compareHist(hist_img1, hist_img2, cv2.HISTCMP_CHISQR)\n",
    "#\n",
    "metric_val_correl"
   ]
  },
  {
   "cell_type": "code",
   "execution_count": 37,
   "metadata": {},
   "outputs": [],
   "source": [
    "def psnr(original, reconstructed):\n",
    "    \"\"\"Calcula la Relación Señal-Ruido de Pico (PSNR) entre dos imágenes\"\"\"\n",
    "    mse = np.mean((original - reconstructed) ** 2)\n",
    "    if mse == 0:\n",
    "        return float('inf')\n",
    "    max_pixel = 255.0\n",
    "    psnr_value = 20 * math.log10(max_pixel / math.sqrt(mse))\n",
    "    return psnr_value\n",
    "\n",
    "def mae(original, reconstructed):\n",
    "    \"\"\"Calcula el Error Absoluto Medio (MAE) entre dos imágenes\"\"\"\n",
    "    mae_value = np.mean(np.abs(original - reconstructed))\n",
    "    return mae_value\n",
    "\n",
    "def ssim(original, reconstructed):\n",
    "    \"\"\"Calcula el Índice de Similitud Estructural (SSIM) entre dos imágenes\"\"\"\n",
    "    ssim_value = skm.structural_similarity(original, reconstructed)\n",
    "    return ssim_value"
   ]
  },
  {
   "cell_type": "code",
   "execution_count": 41,
   "metadata": {},
   "outputs": [],
   "source": [
    "from skimage.metrics import structural_similarity as ssim"
   ]
  },
  {
   "cell_type": "code",
   "execution_count": 42,
   "metadata": {},
   "outputs": [
    {
     "name": "stdout",
     "output_type": "stream",
     "text": [
      "PSNR: inf\n",
      "MAE: 0.0\n",
      "SSIM: 1.0\n"
     ]
    }
   ],
   "source": [
    "#sacar un df con las metricas para cada modelo y los datos de cada entrenamiento \n",
    "psnr_value = psnr(img1, img1)\n",
    "mae_value = mae(img1, img1)\n",
    "ssim_value = ssim(img1, img1)\n",
    "\n",
    "print(f\"PSNR: {psnr_value}\")\n",
    "print(f\"MAE: {mae_value}\")\n",
    "print(f\"SSIM: {ssim_value}\")"
   ]
  },
  {
   "cell_type": "code",
   "execution_count": 43,
   "metadata": {},
   "outputs": [
    {
     "name": "stdout",
     "output_type": "stream",
     "text": [
      "          Metric      Value\n",
      "0           PSNR        inf\n",
      "1            MAE   0.000000\n",
      "2           SSIM   1.000000\n",
      "3    Correlation   0.972055\n",
      "4    Chi-Squared  55.532855\n",
      "5  Bhattacharyya   0.478600\n"
     ]
    }
   ],
   "source": [
    "import pandas as pd\n",
    "\n",
    "# Suponiendo que ya tienes las funciones psnr, mae, ssim definidas y las imágenes cargadas\n",
    "# Además, asumiendo que ya has calculado hist_img1 y hist_img2\n",
    "\n",
    "# Calcula las métricas de calidad de imagen\n",
    "psnr_value = psnr(img1, img1)\n",
    "mae_value = mae(img1, img1)\n",
    "ssim_value = ssim(img1, img1)\n",
    "\n",
    "# Calcula las métricas de histogramas\n",
    "metric_val_correl = cv2.compareHist(hist_img1, hist_img2, cv2.HISTCMP_CORREL)\n",
    "metric_val_chisqr = cv2.compareHist(hist_img1, hist_img2, cv2.HISTCMP_CHISQR)\n",
    "metric_val_bhattacharyya = cv2.compareHist(hist_img1, hist_img2, cv2.HISTCMP_BHATTACHARYYA)\n",
    "\n",
    "# Crea un diccionario con los resultados\n",
    "data = {\n",
    "    'Metric': ['PSNR', 'MAE', 'SSIM', 'Correlation', 'Chi-Squared', 'Bhattacharyya'],\n",
    "    'Value': [psnr_value, mae_value, ssim_value, metric_val_correl, metric_val_chisqr, metric_val_bhattacharyya]\n",
    "}\n",
    "\n",
    "# Convierte el diccionario en un DataFrame de pandas\n",
    "df = pd.DataFrame(data)\n",
    "\n",
    "# Muestra el DataFrame\n",
    "print(df)\n",
    "\n",
    "# Guarda el DataFrame en un archivo CSV\n",
    "df.to_csv('image_quality_metrics.csv', index=False)"
   ]
  },
  {
   "cell_type": "code",
   "execution_count": null,
   "metadata": {},
   "outputs": [],
   "source": []
  }
 ],
 "metadata": {
  "kernelspec": {
   "display_name": "venv",
   "language": "python",
   "name": "python3"
  },
  "language_info": {
   "codemirror_mode": {
    "name": "ipython",
    "version": 3
   },
   "file_extension": ".py",
   "mimetype": "text/x-python",
   "name": "python",
   "nbconvert_exporter": "python",
   "pygments_lexer": "ipython3",
   "version": "3.12.3"
  }
 },
 "nbformat": 4,
 "nbformat_minor": 2
}
